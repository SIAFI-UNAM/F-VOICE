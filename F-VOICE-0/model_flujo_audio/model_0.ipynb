{
 "cells": [
  {
   "cell_type": "code",
   "execution_count": 12,
   "metadata": {},
   "outputs": [],
   "source": [
    "import voice_to_text as vtt\n",
    "import Mel_creator as mc\n",
    "from data_utils_2 import TextMelLoader, TextMelCollate\n",
    "from torch.utils.data.distributed import DistributedSampler\n",
    "from torch.utils.data import DataLoader"
   ]
  },
  {
   "cell_type": "code",
   "execution_count": 13,
   "metadata": {},
   "outputs": [
    {
     "data": {
      "text/plain": [
       "['LJ001-0001.wav',\n",
       " 'LJ001-0002.wav',\n",
       " 'LJ001-0003.wav',\n",
       " 'LJ001-0004.wav',\n",
       " 'LJ001-0005.wav']"
      ]
     },
     "execution_count": 13,
     "metadata": {},
     "output_type": "execute_result"
    }
   ],
   "source": [
    "\n",
    "inpath ='C:\\\\Users\\\\derec\\\\OneDrive\\\\Documents\\\\F-VOICE\\\\audio_test'\n",
    "import os\n",
    "os.listdir(inpath)"
   ]
  },
  {
   "cell_type": "code",
   "execution_count": 14,
   "metadata": {},
   "outputs": [
    {
     "name": "stdout",
     "output_type": "stream",
     "text": [
      "Starting...\n",
      "LJ001-0001.wav\n",
      "C:\\Users\\derec\\OneDrive\\Documents\\F-VOICE\\audio_test\\LJ001-0001.wav\n",
      "LJ001-0002.wav\n",
      "C:\\Users\\derec\\OneDrive\\Documents\\F-VOICE\\audio_test\\LJ001-0002.wav\n",
      "LJ001-0003.wav\n",
      "C:\\Users\\derec\\OneDrive\\Documents\\F-VOICE\\audio_test\\LJ001-0003.wav\n",
      "LJ001-0004.wav\n",
      "C:\\Users\\derec\\OneDrive\\Documents\\F-VOICE\\audio_test\\LJ001-0004.wav\n",
      "LJ001-0005.wav\n",
      "C:\\Users\\derec\\OneDrive\\Documents\\F-VOICE\\audio_test\\LJ001-0005.wav\n"
     ]
    }
   ],
   "source": [
    "\n",
    "inpath ='C:\\\\Users\\\\derec\\\\OneDrive\\\\Documents\\\\F-VOICE\\\\audio_test'\n",
    "outpath = 'C:\\\\Users\\\\derec\\\\OneDrive\\\\Documents\\\\F-VOICE'\n",
    "\n",
    "vtt.voice_to_text(inpath,outpath,language=\"english\")\n"
   ]
  },
  {
   "cell_type": "code",
   "execution_count": 15,
   "metadata": {},
   "outputs": [
    {
     "name": "stderr",
     "output_type": "stream",
     "text": [
      "Mels state: 100%|██████████| 5/5 [00:03<00:00,  1.50it/s]"
     ]
    },
    {
     "name": "stdout",
     "output_type": "stream",
     "text": [
      "wavs_mel created\n"
     ]
    },
    {
     "name": "stderr",
     "output_type": "stream",
     "text": [
      "\n"
     ]
    }
   ],
   "source": [
    "input_path = 'C:\\\\Users\\\\derec\\\\OneDrive\\\\Documents\\\\F-VOICE\\\\audio_test'\n",
    "output_path = 'C:\\\\Users\\\\derec\\\\OneDrive\\\\Documents\\\\F-VOICE\\\\mel_audio'\n",
    "\n",
    "mc.mel_creator(input_path,output_path)"
   ]
  },
  {
   "cell_type": "code",
   "execution_count": 16,
   "metadata": {},
   "outputs": [],
   "source": [
    "\n",
    "hparams = {\n",
    "    'training_files':'C:\\\\Users\\\\derec\\\\OneDrive\\\\Documents\\\\F-VOICE\\\\wavs_text.txt',\n",
    "    'validation_files':'C:\\\\Users\\\\derec\\\\OneDrive\\\\Documents\\\\F-VOICE\\\\wavs_text.txt',\n",
    "    'text_cleaners': ['english_cleaners'],\n",
    "    'max_wav_value': 32768.0,\n",
    "    'sampling_rate': 22050,\n",
    "    'load_mel_from_disk': False,\n",
    "    'filter_length': 1024,\n",
    "    'hop_length': 256,\n",
    "    'win_length': 1024,\n",
    "    'n_mel_channels': 80,\n",
    "    'mel_fmin': 0.0,\n",
    "    'mel_fmax': 8000.0,\n",
    "    'seed': 20,\n",
    "    'distributed_run':False,\n",
    "     ################################\n",
    "        # Optimization Hyperparameters #\n",
    "        ################################\n",
    "    'use_saved_learning_rate':False,\n",
    "    'learning_rate':1e-3,\n",
    "    'weight_decay':1e-6,\n",
    "    'grad_clip_thresh':1.0,\n",
    "    'batch_size':64,\n",
    "    'mask_padding':True  # set model's padded outputs to padded values\n",
    "}\n",
    "\n",
    "\n",
    "def prepare_dataloaders(hparams):\n",
    "    # Get data, data loaders and collate function ready\n",
    "    trainset = TextMelLoader(hparams['training_files'], hparams['text_cleaners'],\n",
    "                         hparams['max_wav_value'], hparams['sampling_rate'],\n",
    "                         hparams['load_mel_from_disk'], hparams['filter_length'],\n",
    "                         hparams['hop_length'], hparams['win_length'],\n",
    "                         hparams['n_mel_channels'], hparams['mel_fmin'],\n",
    "                         hparams['mel_fmax'], hparams['seed'])\n",
    "    valset = TextMelLoader( hparams['validation_files'], hparams['text_cleaners'],\n",
    "                         hparams['max_wav_value'], hparams['sampling_rate'],\n",
    "                         hparams['load_mel_from_disk'], hparams['filter_length'],\n",
    "                         hparams['hop_length'], hparams['win_length'],\n",
    "                         hparams['n_mel_channels'], hparams['mel_fmin'],\n",
    "                         hparams['mel_fmax'], hparams['seed'])\n",
    "    collate_fn = TextMelCollate(n_frames_per_step=1)\n",
    "\n",
    "    if hparams['distributed_run']:\n",
    "        train_sampler = DistributedSampler(trainset)\n",
    "        shuffle = False\n",
    "    else:\n",
    "        train_sampler = None\n",
    "        shuffle = True\n",
    "\n",
    "    train_loader = DataLoader(trainset, num_workers=1, shuffle=shuffle,\n",
    "                              sampler=train_sampler,\n",
    "                              batch_size=hparams['batch_size'], pin_memory=False,\n",
    "                              drop_last=True, collate_fn=collate_fn)\n",
    "    return train_loader, valset, collate_fn"
   ]
  },
  {
   "cell_type": "code",
   "execution_count": 17,
   "metadata": {},
   "outputs": [
    {
     "name": "stdout",
     "output_type": "stream",
     "text": [
      "[['C:\\\\Users\\\\derec\\\\OneDrive\\\\Documents\\\\F-VOICE\\\\audio_test/LJ001-0005.wav ', ' The invention of movable metal letters in the middle of the 15th century may justly be considered, as the invention of the art of printing.'], ['C:\\\\Users\\\\derec\\\\OneDrive\\\\Documents\\\\F-VOICE\\\\audio_test/LJ001-0001.wav ', ' Printing, in the only sense with which we are at present concerned, differs from most if not from all the arts and crafts represented in the exhibition.'], ['C:\\\\Users\\\\derec\\\\OneDrive\\\\Documents\\\\F-VOICE\\\\audio_test/LJ001-0004.wav ', ' produced the block books, which were the immediate predecessors of the true printed book'], ['C:\\\\Users\\\\derec\\\\OneDrive\\\\Documents\\\\F-VOICE\\\\audio_test/LJ001-0003.wav ', ' For although the Chinese took impressions from wood blocks and graved in relief for centuries before the wood cutters of the Netherlands by a similar process,'], ['C:\\\\Users\\\\derec\\\\OneDrive\\\\Documents\\\\F-VOICE\\\\audio_test/LJ001-0002.wav ', ' in being comparatively modern.']]\n"
     ]
    },
    {
     "data": {
      "text/plain": [
       "(tensor([11, 57, 45, 42, 11, 46, 51, 59, 42, 51, 57, 46, 52, 51, 11, 52, 43, 11,\n",
       "         50, 52, 59, 38, 39, 49, 42, 11, 50, 42, 57, 38, 49, 11, 49, 42, 57, 57,\n",
       "         42, 55, 56, 11, 46, 51, 11, 57, 45, 42, 11, 50, 46, 41, 41, 49, 42, 11,\n",
       "         52, 43, 11, 57, 45, 42, 11, 43, 46, 43, 57, 42, 42, 51, 57, 45, 11, 40,\n",
       "         42, 51, 57, 58, 55, 62, 11, 50, 38, 62, 11, 47, 58, 56, 57, 49, 62, 11,\n",
       "         39, 42, 11, 40, 52, 51, 56, 46, 41, 42, 55, 42, 41,  6, 11, 38, 56, 11,\n",
       "         57, 45, 42, 11, 46, 51, 59, 42, 51, 57, 46, 52, 51, 11, 52, 43, 11, 57,\n",
       "         45, 42, 11, 38, 55, 57, 11, 52, 43, 11, 53, 55, 46, 51, 57, 46, 51, 44,\n",
       "          7], dtype=torch.int32),\n",
       " tensor([[-9.1835, -6.4719, -6.0837,  ..., -7.4548, -7.7138, -7.3676],\n",
       "         [-6.7287, -6.1699, -6.1468,  ..., -6.8450, -7.2991, -6.9986],\n",
       "         [-5.8363, -5.4046, -5.2813,  ..., -6.3080, -6.4373, -6.1320],\n",
       "         ...,\n",
       "         [-6.1044, -5.9024, -5.3051,  ..., -9.3646, -9.5347, -9.8833],\n",
       "         [-5.6057, -5.5987, -5.1356,  ..., -9.2024, -9.3682, -9.8212],\n",
       "         [-7.6790, -7.2099, -5.6514,  ..., -9.5265, -9.3538, -9.9673]]))"
      ]
     },
     "execution_count": 17,
     "metadata": {},
     "output_type": "execute_result"
    }
   ],
   "source": [
    "t,v,c =prepare_dataloaders(hparams)\n",
    "print(v.audiopaths_and_text)\n",
    "v.get_mel_text_pair(v.audiopaths_and_text[0])"
   ]
  }
 ],
 "metadata": {
  "kernelspec": {
   "display_name": "Python 3",
   "language": "python",
   "name": "python3"
  },
  "language_info": {
   "codemirror_mode": {
    "name": "ipython",
    "version": 3
   },
   "file_extension": ".py",
   "mimetype": "text/x-python",
   "name": "python",
   "nbconvert_exporter": "python",
   "pygments_lexer": "ipython3",
   "version": "3.12.1"
  }
 },
 "nbformat": 4,
 "nbformat_minor": 2
}
