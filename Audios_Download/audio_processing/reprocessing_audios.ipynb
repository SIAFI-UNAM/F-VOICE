{
 "cells": [
  {
   "cell_type": "code",
   "execution_count": 2,
   "metadata": {},
   "outputs": [],
   "source": [
    "from voice_to_text import voice_to_text as vtt\n",
    "import csv\n",
    "import pandas as pd"
   ]
  },
  {
   "cell_type": "code",
   "execution_count": 4,
   "metadata": {},
   "outputs": [
    {
     "name": "stdout",
     "output_type": "stream",
     "text": [
      "¡ CSV generated succesfully!\n"
     ]
    }
   ],
   "source": [
    "archive_txt = 'wavs_text_correct.txt'\n",
    "archive_csv = 'wavs_text_correct.csv'\n",
    "\n",
    "# Leer el archivo de texto y escribir en un archivo CSV\n",
    "with open(archive_txt, 'r', encoding='utf-8') as txtfile, open(archive_csv, 'w', newline='', encoding='utf-8') as csvfile:\n",
    "    reader = csv.reader(txtfile)\n",
    "    writer = csv.writer(csvfile)\n",
    "    for fila in reader:\n",
    "        writer.writerow(fila)\n",
    "\n",
    "print(\"¡ CSV generated succesfully!\")\n"
   ]
  },
  {
   "cell_type": "code",
   "execution_count": 65,
   "metadata": {},
   "outputs": [],
   "source": [
    "with open(archive_csv, 'r', newline='', encoding='utf-8',) as csvfile:\n",
    "    csv_reader = csv.reader(csvfile, delimiter='|')\n",
    "    data = {'Audio': [], 'word_count': []}\n",
    "    for line in csv_reader:\n",
    "        wav_name = line[0]\n",
    "        text = line[1].strip().split(' ')\n",
    "        #print(wav_name, text)\n",
    "        word_count = len(text)\n",
    "        #print(wav_name,word_count)\n",
    "        data['Audio'].append(wav_name)\n",
    "        data['word_count'].append(word_count)\n",
    "    df_word_count = pd.DataFrame(data)\n",
    "        "
   ]
  },
  {
   "cell_type": "code",
   "execution_count": 81,
   "metadata": {},
   "outputs": [
    {
     "name": "stdout",
     "output_type": "stream",
     "text": [
      "                          Audio  word_count\n",
      "17    video_1_segment_1012.wav            3\n",
      "305   video_1_segment_1272.wav            3\n",
      "488   video_1_segment_1437.wav            3\n",
      "550   video_1_segment_1493.wav            3\n",
      "873     video_1_segment_26.wav            4\n",
      "...                         ...         ...\n",
      "6968   video_7_segment_175.wav          213\n",
      "7182   video_7_segment_368.wav           34\n",
      "7562    video_7_segment_71.wav          159\n",
      "7646   video_7_segment_786.wav           34\n",
      "7761    video_7_segment_89.wav          161\n",
      "\n",
      "[73 rows x 2 columns]\n"
     ]
    }
   ],
   "source": [
    "df_reprocessing = pd.concat([df_word_count[(df_word_count['word_count'] <= 5) ] , df_word_count[(df_word_count['word_count'] >33) ]])\n",
    "print(df_reprocessing)"
   ]
  },
  {
   "cell_type": "code",
   "execution_count": null,
   "metadata": {},
   "outputs": [],
   "source": []
  }
 ],
 "metadata": {
  "kernelspec": {
   "display_name": "Python 3",
   "language": "python",
   "name": "python3"
  },
  "language_info": {
   "codemirror_mode": {
    "name": "ipython",
    "version": 3
   },
   "file_extension": ".py",
   "mimetype": "text/x-python",
   "name": "python",
   "nbconvert_exporter": "python",
   "pygments_lexer": "ipython3",
   "version": "3.12.2"
  }
 },
 "nbformat": 4,
 "nbformat_minor": 2
}
