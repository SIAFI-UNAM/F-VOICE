{
 "cells": [
  {
   "cell_type": "code",
   "execution_count": 3,
   "metadata": {},
   "outputs": [],
   "source": [
    "import Audio_segmented_v2, IdChannel, voice_to_text\n",
    "import os\n",
    "import dowload_youtube_videos as DY\n",
    "import normalize_txt as nt\n",
    "import csv"
   ]
  },
  {
   "cell_type": "code",
   "execution_count": null,
   "metadata": {},
   "outputs": [],
   "source": [
    "IdChannel.IdChannel(\"UCjgHGAoDMD0ERDJctpem1vA\",15)\n",
    "DY.download_videos_from_file('links.txt','Audios Canal')"
   ]
  },
  {
   "cell_type": "code",
   "execution_count": 4,
   "metadata": {},
   "outputs": [
    {
     "name": "stdout",
     "output_type": "stream",
     "text": [
      "Segmenting audio video_1.wav  \n"
     ]
    },
    {
     "name": "stderr",
     "output_type": "stream",
     "text": [
      "Segmenting audio: 100%|██████████| 1694/1694 [00:04<00:00, 417.93it/s]\n"
     ]
    },
    {
     "name": "stdout",
     "output_type": "stream",
     "text": [
      "Operation completed.\n",
      "Segmenting audio video_2.wav  \n"
     ]
    },
    {
     "name": "stderr",
     "output_type": "stream",
     "text": [
      "Segmenting audio: 100%|██████████| 1933/1933 [00:04<00:00, 439.77it/s]\n"
     ]
    },
    {
     "name": "stdout",
     "output_type": "stream",
     "text": [
      "Operation completed.\n",
      "Segmenting audio video_3.wav  \n"
     ]
    },
    {
     "name": "stderr",
     "output_type": "stream",
     "text": [
      "Segmenting audio: 100%|██████████| 363/363 [00:00<00:00, 444.40it/s]\n"
     ]
    },
    {
     "name": "stdout",
     "output_type": "stream",
     "text": [
      "Operation completed.\n",
      "Segmenting audio Video_4.wav  \n"
     ]
    },
    {
     "name": "stderr",
     "output_type": "stream",
     "text": [
      "Segmenting audio: 100%|██████████| 1012/1012 [00:01<00:00, 520.98it/s]\n"
     ]
    },
    {
     "name": "stdout",
     "output_type": "stream",
     "text": [
      "Operation completed.\n",
      "Segmenting audio video_5.wav  \n"
     ]
    },
    {
     "name": "stderr",
     "output_type": "stream",
     "text": [
      "Segmenting audio: 100%|██████████| 320/320 [00:00<00:00, 802.17it/s]\n"
     ]
    },
    {
     "name": "stdout",
     "output_type": "stream",
     "text": [
      "Operation completed.\n",
      "Segmenting audio video_6.wav  \n"
     ]
    },
    {
     "name": "stderr",
     "output_type": "stream",
     "text": [
      "Segmenting audio: 100%|██████████| 1170/1170 [00:01<00:00, 724.31it/s]\n"
     ]
    },
    {
     "name": "stdout",
     "output_type": "stream",
     "text": [
      "Operation completed.\n",
      "Segmenting audio video_7.wav  \n"
     ]
    },
    {
     "name": "stderr",
     "output_type": "stream",
     "text": [
      "Segmenting audio: 100%|██████████| 1391/1391 [00:01<00:00, 726.54it/s]"
     ]
    },
    {
     "name": "stdout",
     "output_type": "stream",
     "text": [
      "Operation completed.\n"
     ]
    },
    {
     "name": "stderr",
     "output_type": "stream",
     "text": [
      "\n"
     ]
    }
   ],
   "source": [
    "for filename in os.listdir(\"Audios Canal\"):\n",
    "    if filename.endswith(\".wav\"):\n",
    "        input_audio_path = os.path.join(\"Audios Canal\", filename)\n",
    "        output_folder = \"segmented_audios\"\n",
    "        print(f\"Segmenting audio {filename}  \")\n",
    "        Audio_segmented_v2.segment_audio(input_audio_path, output_folder)\n",
    "                "
   ]
  },
  {
   "cell_type": "code",
   "execution_count": 5,
   "metadata": {},
   "outputs": [
    {
     "name": "stderr",
     "output_type": "stream",
     "text": [
      "100%|██████████| 7883/7883 [1:35:29<00:00,  1.38it/s]  \n"
     ]
    }
   ],
   "source": [
    "voice_to_text.voice_to_text(\"segmented_audios\",\"Text_audio\", model = \"base\",language = \"es\")"
   ]
  },
  {
   "cell_type": "code",
   "execution_count": 2,
   "metadata": {},
   "outputs": [
    {
     "name": "stdout",
     "output_type": "stream",
     "text": [
      "Updated file saved as: e:\\Github\\F-voice\\F-VOICE\\F-VOICE-1\\Audios_Download\\audio_processing\\wavs_text_correct_normalized.txt\n"
     ]
    },
    {
     "data": {
      "text/plain": [
       "'e:\\\\Github\\\\F-voice\\\\F-VOICE\\\\F-VOICE-1\\\\Audios_Download\\\\audio_processing\\\\wavs_text_correct_normalized.txt'"
      ]
     },
     "execution_count": 2,
     "metadata": {},
     "output_type": "execute_result"
    }
   ],
   "source": [
    "nt.normalize_txt(\"wavs_text_correct.txt\",\"wavs_text_correct_normalized.txt\",\"es\")"
   ]
  },
  {
   "cell_type": "code",
   "execution_count": 5,
   "metadata": {},
   "outputs": [
    {
     "name": "stdout",
     "output_type": "stream",
     "text": [
      "¡ CSV generated succesfully!\n"
     ]
    }
   ],
   "source": [
    "archive_txt = 'wavs_text_correct_normalized.txt'\n",
    "archive_csv = 'metadata.csv'\n",
    "\n",
    "# Leer el archivo de texto y escribir en un archivo CSV\n",
    "with open(archive_txt, 'r', encoding='utf-8') as txtfile, open(archive_csv, 'w', newline='', encoding='utf-8') as csvfile:\n",
    "    reader = csv.reader(txtfile)\n",
    "    writer = csv.writer(csvfile)\n",
    "    for fila in reader:\n",
    "        writer.writerow(fila)\n",
    "\n",
    "print(\"¡ CSV generated succesfully!\")"
   ]
  }
 ],
 "metadata": {
  "kernelspec": {
   "display_name": "Python 3",
   "language": "python",
   "name": "python3"
  },
  "language_info": {
   "codemirror_mode": {
    "name": "ipython",
    "version": 3
   },
   "file_extension": ".py",
   "mimetype": "text/x-python",
   "name": "python",
   "nbconvert_exporter": "python",
   "pygments_lexer": "ipython3",
   "version": "3.12.2"
  }
 },
 "nbformat": 4,
 "nbformat_minor": 2
}
