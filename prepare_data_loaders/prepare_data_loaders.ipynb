{
 "cells": [
  {
   "cell_type": "code",
   "execution_count": 113,
   "metadata": {},
   "outputs": [],
   "source": [
    "from data_utils import TextMelLoader, TextMelCollate\n",
    "\n",
    "from torch.utils.data.distributed import DistributedSampler\n",
    "from torch.utils.data import DataLoader\n",
    "from utils import load_filepaths_and_text\n",
    "from layers import TacotronSTFT\n",
    "from text import text_to_sequence\n",
    "from text import cleaners as cl\n",
    "import stft\n",
    "import random\n",
    "import torch\n",
    "import numpy as np"
   ]
  },
  {
   "cell_type": "code",
   "execution_count": 28,
   "metadata": {},
   "outputs": [],
   "source": [
    "hparams = {\n",
    "    'text_cleaners': ['english_cleaners'],\n",
    "    'max_wav_value': 32768.0,\n",
    "    'sampling_rate': 22050,\n",
    "    'load_mel_from_disk': False,\n",
    "    'filter_length': 1024,\n",
    "    'hop_length': 256,\n",
    "    'win_length': 1024,\n",
    "    'n_mel_channels': 80,\n",
    "    'mel_fmin': 0.0,\n",
    "    'mel_fmax': 8000.0,\n",
    "    'seed': 123\n",
    "}\n",
    "\n",
    "training_files='filelists/ljs_audio_text_train_filelist.txt'\n",
    "validation_files='filelists/ljs_audio_text_val_filelist.txt'\n",
    "\n",
    "def prepare_dataloaders(training_files,validation_files,hparams):\n",
    "    # Get data, data loaders and collate function ready\n",
    "    trainset = TextMelLoader(training_files, hparams)\n",
    "    valset = TextMelLoader(validation_files, hparams)\n",
    "    collate_fn = TextMelCollate(hparams)\n",
    "\n",
    "    if hparams.distributed_run:\n",
    "        train_sampler = DistributedSampler(trainset)\n",
    "        shuffle = False\n",
    "    else:\n",
    "        train_sampler = None\n",
    "        shuffle = True\n",
    "\n",
    "    train_loader = DataLoader(trainset, num_workers=1, shuffle=shuffle,\n",
    "                              sampler=train_sampler,\n",
    "                              batch_size=hparams.batch_size, pin_memory=False,\n",
    "                              drop_last=True, collate_fn=collate_fn)\n",
    "    return train_loader, valset, collate_fn"
   ]
  },
  {
   "cell_type": "code",
   "execution_count": 115,
   "metadata": {},
   "outputs": [
    {
     "name": "stderr",
     "output_type": "stream",
     "text": [
      "<>:7: SyntaxWarning: invalid escape sequence '\\G'\n",
      "<>:7: SyntaxWarning: invalid escape sequence '\\G'\n",
      "C:\\Users\\Laptop Bonita\\AppData\\Local\\Temp\\ipykernel_6888\\2145386704.py:7: SyntaxWarning: invalid escape sequence '\\G'\n",
      "  input_pat_mels = \"E:\\Github\\F-voice\\F-VOICE\\Mel_creator\\wavs_mel\\LJ001-0001.npy\"\n"
     ]
    }
   ],
   "source": [
    "\"\"\"\n",
    "    1) loads audio,text pairs\n",
    "    2) normalizes text and converts them to sequences of one-hot vectors\n",
    "    3) computes mel-spectrograms from audio files.\n",
    "\"\"\"\n",
    "\n",
    "input_pat_mels = \"E:\\Github\\F-voice\\F-VOICE\\Mel_creator\\wavs_mel\\LJ001-0001.npy\"\n",
    "\n",
    "audiopaths_and_text = load_filepaths_and_text(training_files)\n",
    "stft = TacotronSTFT(\n",
    "            hparams['filter_length'], hparams['hop_length'], hparams['win_length'],\n",
    "            hparams['n_mel_channels'], hparams['sampling_rate'], hparams['mel_fmin'],\n",
    "            hparams['mel_fmax'])  \n",
    "random.seed(hparams['seed'])\n",
    "random.shuffle(audiopaths_and_text)\n",
    "# extract the text and wav paths\n",
    "archives_wav = [wav[0] for wav in audiopaths_and_text]\n",
    "text = [text[1] for text in audiopaths_and_text]\n",
    "audiopaths_and_text = [archives_wav] + [text]\n",
    "text_norm  = torch.IntTensor(text_to_sequence(audiopaths_and_text[1][0], ['english_cleaners']))\n",
    "#mel = torch.from_numpy(np.load(audiopaths_and_text[0][0]))\n",
    "mel = torch.from_numpy(np.load(input_pat_mels))\n",
    "#assert mel.size(0) == hparams['n_mel_channels'], (\n",
    "#                'Mel dimension mismatch: given {}, expected {}'.format(\n",
    "#                    mel.size(0), hparams['n_mel_channels']))\n"
   ]
  },
  {
   "cell_type": "code",
   "execution_count": 96,
   "metadata": {},
   "outputs": [
    {
     "name": "stdout",
     "output_type": "stream",
     "text": [
      "Archivos .wav: ['DUMMY/LJ021-0092.wav', 'DUMMY/LJ017-0124.wav']\n",
      "Texto: ['first, the legislative or policy making function;', 'He frequently declared before and during the trial that it would be impossible to find him guilty.']\n"
     ]
    },
    {
     "data": {
      "text/plain": [
       "'DUMMY/LJ017-0124.wav'"
      ]
     },
     "execution_count": 96,
     "metadata": {},
     "output_type": "execute_result"
    }
   ],
   "source": [
    "lista_original = [\n",
    "    ['DUMMY/LJ021-0092.wav', 'first, the legislative or policy making function;'],\n",
    "    ['DUMMY/LJ017-0124.wav', 'He frequently declared before and during the trial that it would be impossible to find him guilty.']\n",
    "]\n",
    "\n",
    "# Extraer los archivos .wav y el texto\n",
    "archivos_wav = [elemento[0] for elemento in lista_original]\n",
    "texto = [elemento[1] for elemento in lista_original]\n",
    "\n",
    "print(\"Archivos .wav:\", archivos_wav)\n",
    "print(\"Texto:\", texto)\n",
    "\n",
    "\n",
    "a = archivos_wav+ texto\n",
    "a[1]"
   ]
  },
  {
   "cell_type": "code",
   "execution_count": null,
   "metadata": {},
   "outputs": [],
   "source": [
    "lista_original =audiopaths_and_text\n",
    "\n",
    "# Dividir cada elemento de la lista interna en sublistas independientes\n",
    "lista_dividida = [[subelemento] for elemento in lista_original for subelemento in elemento]\n",
    "\n",
    "print(lista_dividida)"
   ]
  }
 ],
 "metadata": {
  "kernelspec": {
   "display_name": "Python 3",
   "language": "python",
   "name": "python3"
  },
  "language_info": {
   "codemirror_mode": {
    "name": "ipython",
    "version": 3
   },
   "file_extension": ".py",
   "mimetype": "text/x-python",
   "name": "python",
   "nbconvert_exporter": "python",
   "pygments_lexer": "ipython3",
   "version": "3.12.2"
  }
 },
 "nbformat": 4,
 "nbformat_minor": 2
}
