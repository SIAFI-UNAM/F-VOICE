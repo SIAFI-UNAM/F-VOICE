{
 "cells": [
  {
   "cell_type": "markdown",
   "metadata": {},
   "source": [
    "# Proceso para pre-procesamiento de audio"
   ]
  },
  {
   "cell_type": "code",
   "execution_count": 29,
   "metadata": {},
   "outputs": [],
   "source": [
    "from pydub import AudioSegment\n",
    "from pydub.silence import split_on_silence\n",
    "import os\n",
    "import subprocess #se utiliza para ejecutar el comando de demucs\n",
    "import glob\n",
    "import shutil"
   ]
  },
  {
   "cell_type": "markdown",
   "metadata": {},
   "source": [
    "## 1.- En caso de tener el audio en mp3 se debe psar a formato .wav"
   ]
  },
  {
   "cell_type": "code",
   "execution_count": 2,
   "metadata": {},
   "outputs": [],
   "source": [
    "def convert_mp3_to_wav(mp3_path, wav_path):\n",
    "    \"\"\"\n",
    "    Convierte un archivo MP3 a formato WAV.\n",
    "    \n",
    "    :param mp3_path: Ruta del archivo MP3 de entrada\n",
    "    :param wav_path: Ruta donde se guardará el archivo WAV de salida\n",
    "    \"\"\"\n",
    "    # Cargar el archivo MP3\n",
    "    audio = AudioSegment.from_mp3(mp3_path)\n",
    "    \n",
    "    # Exportar a WAV\n",
    "    audio.export(wav_path, format=\"wav\")\n",
    "\n",
    "    print(f\"Convertido {mp3_path} a {wav_path}\")"
   ]
  },
  {
   "cell_type": "markdown",
   "metadata": {},
   "source": [
    "## 2.- Se eliminan los silencios de el audio"
   ]
  },
  {
   "cell_type": "markdown",
   "metadata": {},
   "source": [
    "Hay partes donde el audio tiene pausas largas, en este caso el umbral es que si estas pausas son mayores a 250ms, se va a recortar el audio para unirlos, algunas pausas no se eliminan debido a que es parte de la naturaleza de la voz."
   ]
  },
  {
   "cell_type": "code",
   "execution_count": 19,
   "metadata": {},
   "outputs": [],
   "source": [
    "\n",
    "def remove_silence_with_varied_lengths(audio_path, output_dir, silence_thresh=-40, min_silence_lengths=[15,25,50,75,100,200,300,400,500], padding=200):\n",
    "    \"\"\"\n",
    "    Aplica diferentes valores de min_silence_len y guarda los resultados para análisis.\n",
    "    \n",
    "    :param audio_path: Ruta al archivo de audio de entrada\n",
    "    :param output_dir: Directorio donde se guardarán los archivos de salida\n",
    "    :param silence_thresh: Umbral de silencio en dBFS (decibelios relativos a escala de amplitud de 1)\n",
    "    :param min_silence_lengths: Lista de valores para min_silence_len a probar\n",
    "    :param padding: Cantidad de audio que se mantendrá antes y después de cada segmento no silencioso en milisegundos\n",
    "    \"\"\"\n",
    "    # Cargar el archivo de audio\n",
    "    audio = AudioSegment.from_wav(audio_path)\n",
    "    \n",
    "    # Asegúrate de que el directorio de salida existe\n",
    "    os.makedirs(output_dir, exist_ok=True)\n",
    "\n",
    "    # Obtener el nombre base del archivo (sin la extensión)\n",
    "    base_name = os.path.splitext(os.path.basename(audio_path))[0]\n",
    "    \n",
    "    for min_silence_len in min_silence_lengths:\n",
    "        chunks = split_on_silence(audio, \n",
    "                                  min_silence_len=min_silence_len, \n",
    "                                  silence_thresh=silence_thresh, \n",
    "                                  keep_silence=padding)\n",
    "        \n",
    "        # Unir los segmentos que no tienen silencio\n",
    "        processed_audio = AudioSegment.silent(duration=0)\n",
    "        for chunk in chunks:\n",
    "            processed_audio += chunk\n",
    "        \n",
    "        # Guardar el audio procesado con un nombre que refleje el min_silence_len usado\n",
    "        output_path = os.path.join(output_dir, f\"{base_name}_output_{min_silence_len}ms.wav\")\n",
    "        processed_audio.export(output_path, format=\"wav\")\n",
    "\n"
   ]
  },
  {
   "cell_type": "markdown",
   "metadata": {},
   "source": [
    "## 3.-Se extraen la parte vocal de el audio"
   ]
  },
  {
   "cell_type": "markdown",
   "metadata": {},
   "source": [
    "En esta parte se separa la parte vocal y de audio de fondo, para poder tener un audio mas limpio."
   ]
  },
  {
   "cell_type": "code",
   "execution_count": 27,
   "metadata": {},
   "outputs": [],
   "source": [
    "def separate_vocals(input_file, output_dir):\n",
    "    \"\"\"\n",
    "    Separa las voces de la música de fondo y guarda el archivo de voz en el directorio especificado.\n",
    "    \n",
    "    :param input_file: Ruta al archivo de audio de entrada (MP3 o WAV)\n",
    "    :param output_dir: Ruta al directorio donde se guardarán los archivos resultantes\n",
    "    \"\"\"\n",
    "\n",
    "    # Asegúrarse de que la carpeta de salida exista\n",
    "    os.makedirs(output_dir, exist_ok=True)\n",
    "\n",
    "    # Obtener el nombre base del archivo sin la extensión\n",
    "    base_name = os.path.splitext(os.path.basename(input_file))[0]\n",
    "\n",
    "    # Especificar la carpeta de salida para demucs\n",
    "    demucs_output_dir = output_dir\n",
    "    \n",
    "    # Crear el comando para ejecutar demucs\n",
    "    print(\"Extracting vocals...\")\n",
    "    command = f\"demucs --two-stems=vocals -o {output_dir} {input_file}\"\n",
    "    subprocess.run(command, shell=True)\n",
    "\n",
    "    \n",
    "    print(f\"Vocal track extracted and saved to {demucs_output_dir}\")\n"
   ]
  },
  {
   "cell_type": "markdown",
   "metadata": {},
   "source": [
    "## 4.- Separacion del audio en segmentos de audio <= 15s, basado en los momentos del audio donde se encuentran pausas o silencios."
   ]
  },
  {
   "cell_type": "code",
   "execution_count": 5,
   "metadata": {},
   "outputs": [],
   "source": [
    "def split_audio_on_pauses(audio_path, output_dir, min_segment_len=10000, max_segment_len=15000, silence_thresh=-40, silence_padding=200):\n",
    "    \"\"\"\n",
    "    Divide un archivo de audio en segmentos de 10 a 15 segundos, recortando en pausas de silencio.\n",
    "\n",
    "    :param audio_path: Ruta al archivo de audio de entrada (WAV o MP3)\n",
    "    :param output_dir: Directorio donde se guardarán los segmentos de salida\n",
    "    :param min_segment_len: Longitud mínima de los segmentos en milisegundos\n",
    "    :param max_segment_len: Longitud máxima de los segmentos en milisegundos\n",
    "    :param silence_thresh: Umbral de silencio en dBFS (decibelios relativos a escala de amplitud de 1)\n",
    "    :param silence_padding: Cantidad de audio que se mantendrá antes y después de cada pausa en milisegundos\n",
    "    \"\"\"\n",
    "    # Cargar el archivo de audio\n",
    "    audio = AudioSegment.from_file(audio_path)\n",
    "\n",
    "    # Dividir el audio basado en pausas\n",
    "    chunks = split_on_silence(audio, \n",
    "                              min_silence_len=silence_padding, \n",
    "                              silence_thresh=silence_thresh, \n",
    "                              keep_silence=True)\n",
    "    \n",
    "    # Crear directorio de salida si no existe\n",
    "    os.makedirs(output_dir, exist_ok=True)\n",
    "\n",
    "    current_segment = AudioSegment.silent(duration=0)\n",
    "    segment_count = 0\n",
    "\n",
    "    for chunk in chunks:\n",
    "        current_segment += chunk\n",
    "        \n",
    "        # Si la longitud del segmento actual está entre los límites especificados, guárdalo\n",
    "        if min_segment_len <= len(current_segment) <= max_segment_len:\n",
    "            segment_count += 1\n",
    "            segment_name = f\"segment_{segment_count}.wav\"\n",
    "            current_segment.export(f\"{output_dir}/{segment_name}\", format=\"wav\")\n",
    "            current_segment = AudioSegment.silent(duration=0)\n",
    "        elif len(current_segment) > max_segment_len:\n",
    "            segment_count += 1\n",
    "            segment_name = f\"segment_{segment_count}.wav\"\n",
    "            current_segment.export(f\"{output_dir}/{segment_name}\", format=\"wav\")\n",
    "            current_segment = AudioSegment.silent(duration=0) + chunk\n",
    "    \n",
    "    # Exportar el último segmento si no está vacío\n",
    "    if len(current_segment) > 0:\n",
    "        segment_count += 1\n",
    "        segment_name = f\"segment_{segment_count}.wav\"\n",
    "        current_segment.export(f\"{output_dir}/{segment_name}\", format=\"wav\")\n"
   ]
  },
  {
   "cell_type": "markdown",
   "metadata": {},
   "source": [
    "## Mover archivos de vocales a una carpeta"
   ]
  },
  {
   "cell_type": "code",
   "execution_count": 34,
   "metadata": {},
   "outputs": [],
   "source": [
    "def move_vocals_files(source_base_path, destination_dir, start, end):\n",
    "    \"\"\"\n",
    "    Itera sobre un rango de números 'i' para mover archivos vocals.wav desde carpetas con nombres basados en 'i'.\n",
    "    \n",
    "    :param source_base_path: Ruta base de las carpetas que contienen los archivos vocals.wav\n",
    "    :param destination_dir: Directorio donde se moverán los archivos vocals.wav\n",
    "    :param start: Valor inicial de 'i' para el iterador\n",
    "    :param end: Valor final de 'i' para el iterador\n",
    "    \"\"\"\n",
    "    # Asegúrate de que la carpeta de destino existe\n",
    "    os.makedirs(destination_dir, exist_ok=True)\n",
    "    \n",
    "    for i in range(start, end + 1):\n",
    "        # Construir la ruta de la carpeta de origen basada en 'i'\n",
    "        folder_name = f\"segment_{i}_output_250ms\"\n",
    "        folder_path = os.path.join(source_base_path, folder_name)\n",
    "        print(folder_path)\n",
    "        # Ruta completa al archivo vocals.wav en la carpeta actual\n",
    "        vocals_file = os.path.join(folder_path, \"vocals.wav\")\n",
    "        \n",
    "        if os.path.exists(vocals_file):\n",
    "            # Generar un nombre único basado en el nombre de la carpeta\n",
    "            new_file_name = f\"{folder_name}_vocals.wav\"\n",
    "            \n",
    "            # Ruta completa al archivo destino\n",
    "            dest_file = os.path.join(destination_dir, new_file_name)\n",
    "            \n",
    "            # Mover el archivo\n",
    "            shutil.move(vocals_file, dest_file)\n",
    "            print(f\"Moved {vocals_file} to {dest_file}\")\n",
    "        else:\n",
    "            print(f\"File not found: {vocals_file}\")\n",
    "\n"
   ]
  },
  {
   "cell_type": "markdown",
   "metadata": {},
   "source": [
    "## Borrar folder y archivos en el"
   ]
  },
  {
   "cell_type": "code",
   "execution_count": 39,
   "metadata": {},
   "outputs": [],
   "source": [
    "def delete_folders(folders_to_delete):\n",
    "    \"\"\"\n",
    "    Elimina una lista de carpetas y todo su contenido.\n",
    "    \n",
    "    :param folders_to_delete: Lista de rutas de carpetas que deseas eliminar\n",
    "    \"\"\"\n",
    "    for folder_path in folders_to_delete:\n",
    "        if os.path.exists(folder_path):\n",
    "            shutil.rmtree(folder_path)\n",
    "            print(f\"Deleted folder and its contents: {folder_path}\")\n",
    "        else:\n",
    "            print(f\"Folder not found: {folder_path}\")\n"
   ]
  },
  {
   "cell_type": "markdown",
   "metadata": {},
   "source": [
    "## Ejemplo de uso"
   ]
  },
  {
   "cell_type": "code",
   "execution_count": null,
   "metadata": {},
   "outputs": [],
   "source": [
    "#COnvertimos el archivo mp3 a wav\n",
    "convert_mp3_to_wav(\"input.mp3\", \"output.wav\")"
   ]
  },
  {
   "cell_type": "code",
   "execution_count": 22,
   "metadata": {},
   "outputs": [],
   "source": [
    "#Primro si el audio es largo, debemos segmentarlo en partes de 10 a 15 segundos, considerando posibles pausas de silencio, ya que si tiene\n",
    "#ruido de fondo, solo va a segmentar donde considere tener pausas, esto es para que el procesamiento de extracción de voces sea más preciso y tarde menos.\n",
    "\n",
    "split_audio_on_pauses(\"output.wav\", \"output_segments_no_preprocessing\", min_segment_len=10000, max_segment_len=15000, silence_thresh=-30, silence_padding=200)"
   ]
  },
  {
   "cell_type": "code",
   "execution_count": 23,
   "metadata": {},
   "outputs": [
    {
     "name": "stdout",
     "output_type": "stream",
     "text": [
      "['output_segments_no_preprocessing\\\\segment_1.wav', 'output_segments_no_preprocessing\\\\segment_2.wav', 'output_segments_no_preprocessing\\\\segment_3.wav', 'output_segments_no_preprocessing\\\\segment_4.wav', 'output_segments_no_preprocessing\\\\segment_5.wav', 'output_segments_no_preprocessing\\\\segment_6.wav']\n",
      "output_segments_no_preprocessing\\segment_1.wav\n",
      "output_segments_no_preprocessing\\segment_2.wav\n",
      "output_segments_no_preprocessing\\segment_3.wav\n",
      "output_segments_no_preprocessing\\segment_4.wav\n",
      "output_segments_no_preprocessing\\segment_5.wav\n",
      "output_segments_no_preprocessing\\segment_6.wav\n"
     ]
    }
   ],
   "source": [
    "#Una vez se tiene la primera segmentacion, se procede a remover supuestos silencios de la misma manera que antes, pero a cada segmento\n",
    "folder_path = \"output_segments_no_preprocessing\"\n",
    "\n",
    "# Encuentra todos los archivos .mp3 y .wav en la carpeta de entrada\n",
    "audio_files = glob.glob(os.path.join(folder_path, '*.mp3')) + glob.glob(os.path.join(folder_path, '*.wav'))\n",
    "print(audio_files)\n",
    "    \n",
    "    # Itera sobre cada archivo y aplica la función de eliminación de silencios\n",
    "for file in audio_files:\n",
    "    print(file)\n",
    "    #Eliminamos algunos supuestos silencios del audio primero\n",
    "    remove_silence_with_varied_lengths(file, \"output_processed_silence\", min_silence_lengths=[250],silence_thresh=-40, padding=150)"
   ]
  },
  {
   "cell_type": "code",
   "execution_count": 28,
   "metadata": {},
   "outputs": [
    {
     "name": "stdout",
     "output_type": "stream",
     "text": [
      "['output_processed_silence\\\\segment_1_output_250ms.wav', 'output_processed_silence\\\\segment_2_output_250ms.wav', 'output_processed_silence\\\\segment_3_output_250ms.wav', 'output_processed_silence\\\\segment_4_output_250ms.wav', 'output_processed_silence\\\\segment_5_output_250ms.wav', 'output_processed_silence\\\\segment_6_output_250ms.wav']\n",
      "output_processed_silence\\segment_1_output_250ms.wav\n",
      "Extracting vocals...\n",
      "Vocal track extracted and saved to preprocess_audios_end\n",
      "output_processed_silence\\segment_2_output_250ms.wav\n",
      "Extracting vocals...\n",
      "Vocal track extracted and saved to preprocess_audios_end\n",
      "output_processed_silence\\segment_3_output_250ms.wav\n",
      "Extracting vocals...\n",
      "Vocal track extracted and saved to preprocess_audios_end\n",
      "output_processed_silence\\segment_4_output_250ms.wav\n",
      "Extracting vocals...\n",
      "Vocal track extracted and saved to preprocess_audios_end\n",
      "output_processed_silence\\segment_5_output_250ms.wav\n",
      "Extracting vocals...\n",
      "Vocal track extracted and saved to preprocess_audios_end\n",
      "output_processed_silence\\segment_6_output_250ms.wav\n",
      "Extracting vocals...\n",
      "Vocal track extracted and saved to preprocess_audios_end\n"
     ]
    }
   ],
   "source": [
    "#Despues podemos aplicar la separación de voces y sonido de fondo, \n",
    "# ya que el procesamiento sera mas preciso, para no fallar en extraer las vocales\n",
    "\n",
    "folder_path_processeced_silenice = \"output_processed_silence\"\n",
    "\n",
    "# Encuentra todos los archivos .mp3 y .wav en la carpeta de entrada\n",
    "audio_files = glob.glob(os.path.join(folder_path_processeced_silenice, '*.mp3')) + glob.glob(os.path.join(folder_path_processeced_silenice, '*.wav'))\n",
    "print(audio_files)\n",
    "    \n",
    "    # Itera sobre cada archivo y aplica la función de eliminación de silencios\n",
    "for file in audio_files:\n",
    "    print(file)\n",
    "    separate_vocals(file,\"preprocess_audios_end\")"
   ]
  },
  {
   "cell_type": "code",
   "execution_count": 33,
   "metadata": {},
   "outputs": [
    {
     "name": "stdout",
     "output_type": "stream",
     "text": [
      "D:\\preprocesamiento_audios\\preprocess_audios_end\\htdemucs\\segment_1_output_250ms\n",
      "Moved D:\\preprocesamiento_audios\\preprocess_audios_end\\htdemucs\\segment_1_output_250ms\\vocals.wav to D:\\preprocesamiento_audios\\vocals\\segment_1_output_250ms_vocals.wav\n",
      "D:\\preprocesamiento_audios\\preprocess_audios_end\\htdemucs\\segment_2_output_250ms\n",
      "Moved D:\\preprocesamiento_audios\\preprocess_audios_end\\htdemucs\\segment_2_output_250ms\\vocals.wav to D:\\preprocesamiento_audios\\vocals\\segment_2_output_250ms_vocals.wav\n",
      "D:\\preprocesamiento_audios\\preprocess_audios_end\\htdemucs\\segment_3_output_250ms\n",
      "Moved D:\\preprocesamiento_audios\\preprocess_audios_end\\htdemucs\\segment_3_output_250ms\\vocals.wav to D:\\preprocesamiento_audios\\vocals\\segment_3_output_250ms_vocals.wav\n",
      "D:\\preprocesamiento_audios\\preprocess_audios_end\\htdemucs\\segment_4_output_250ms\n",
      "Moved D:\\preprocesamiento_audios\\preprocess_audios_end\\htdemucs\\segment_4_output_250ms\\vocals.wav to D:\\preprocesamiento_audios\\vocals\\segment_4_output_250ms_vocals.wav\n",
      "D:\\preprocesamiento_audios\\preprocess_audios_end\\htdemucs\\segment_5_output_250ms\n",
      "Moved D:\\preprocesamiento_audios\\preprocess_audios_end\\htdemucs\\segment_5_output_250ms\\vocals.wav to D:\\preprocesamiento_audios\\vocals\\segment_5_output_250ms_vocals.wav\n",
      "D:\\preprocesamiento_audios\\preprocess_audios_end\\htdemucs\\segment_6_output_250ms\n",
      "Moved D:\\preprocesamiento_audios\\preprocess_audios_end\\htdemucs\\segment_6_output_250ms\\vocals.wav to D:\\preprocesamiento_audios\\vocals\\segment_6_output_250ms_vocals.wav\n"
     ]
    }
   ],
   "source": [
    "# Ejemplo de uso\n",
    "source_base_path = \"D:\\\\preprocesamiento_audios\\\\preprocess_audios_end\\\\htdemucs\"\n",
    "destination_dir = \"D:\\\\preprocesamiento_audios\\\\vocals\"\n",
    "start = 1  # Valor inicial de 'i'\n",
    "end = 6  # Valor final de 'i'\n",
    "\n",
    "move_vocals_files(source_base_path, destination_dir, start, end)\n"
   ]
  },
  {
   "cell_type": "code",
   "execution_count": 37,
   "metadata": {},
   "outputs": [
    {
     "name": "stdout",
     "output_type": "stream",
     "text": [
      "['D:\\\\preprocesamiento_audios\\\\vocals\\\\segment_1_output_250ms_vocals.wav', 'D:\\\\preprocesamiento_audios\\\\vocals\\\\segment_2_output_250ms_vocals.wav', 'D:\\\\preprocesamiento_audios\\\\vocals\\\\segment_3_output_250ms_vocals.wav', 'D:\\\\preprocesamiento_audios\\\\vocals\\\\segment_4_output_250ms_vocals.wav', 'D:\\\\preprocesamiento_audios\\\\vocals\\\\segment_5_output_250ms_vocals.wav', 'D:\\\\preprocesamiento_audios\\\\vocals\\\\segment_6_output_250ms_vocals.wav']\n",
      "D:\\preprocesamiento_audios\\vocals\\segment_1_output_250ms_vocals.wav\n",
      "D:\\preprocesamiento_audios\\vocals\\segment_2_output_250ms_vocals.wav\n",
      "D:\\preprocesamiento_audios\\vocals\\segment_3_output_250ms_vocals.wav\n",
      "D:\\preprocesamiento_audios\\vocals\\segment_4_output_250ms_vocals.wav\n",
      "D:\\preprocesamiento_audios\\vocals\\segment_5_output_250ms_vocals.wav\n",
      "D:\\preprocesamiento_audios\\vocals\\segment_6_output_250ms_vocals.wav\n"
     ]
    }
   ],
   "source": [
    "#Una vez extraidas las vocales, podemos eliminar los silencios de forma mas precisa\n",
    "folder_path = destination_dir\n",
    "\n",
    "# Encuentra todos los archivos .mp3 y .wav en la carpeta de entrada\n",
    "audio_files = glob.glob(os.path.join(folder_path, '*.mp3')) + glob.glob(os.path.join(folder_path, '*.wav'))\n",
    "print(audio_files)\n",
    "    \n",
    "# Itera sobre cada archivo y aplica la función de eliminación de silencios\n",
    "for file in audio_files:\n",
    "    print(file)\n",
    "    #Eliminamos algunos supuestos silencios del audio primero\n",
    "    remove_silence_with_varied_lengths(file, \"vocals_end\", min_silence_lengths=[250],silence_thresh=-50, padding=250)"
   ]
  },
  {
   "cell_type": "markdown",
   "metadata": {},
   "source": [
    "Finalmente si todo esta correcto, se eliminan las carpetas y archivos del pre.procesamiento inicial, para no usar memoria o archivos que no sirven."
   ]
  },
  {
   "cell_type": "code",
   "execution_count": 40,
   "metadata": {},
   "outputs": [
    {
     "name": "stdout",
     "output_type": "stream",
     "text": [
      "Deleted folder and its contents: D:\\preprocesamiento_audios\\preprocess_audios_end\n",
      "Deleted folder and its contents: D:\\preprocesamiento_audios\\output_processed_silence\n",
      "Deleted folder and its contents: D:\\preprocesamiento_audios\\output_segments_no_preprocessing\n",
      "Deleted folder and its contents: D:\\preprocesamiento_audios\\vocals\n"
     ]
    }
   ],
   "source": [
    "#Folders a eliminar (OJO CON LOS FOLDERS, VERIFICA SI SON LOS CORRECTOS)\n",
    "folders_to_delete = [\n",
    "    \"D:\\\\preprocesamiento_audios\\\\preprocess_audios_end\",\n",
    "    \"D:\\\\preprocesamiento_audios\\\\output_processed_silence\",\n",
    "    \"D:\\\\preprocesamiento_audios\\\\output_segments_no_preprocessing\",\n",
    "    \"D:\\\\preprocesamiento_audios\\\\vocals\"\n",
    "]\n",
    "\n",
    "delete_folders(folders_to_delete)\n"
   ]
  }
 ],
 "metadata": {
  "kernelspec": {
   "display_name": "Python 3",
   "language": "python",
   "name": "python3"
  },
  "language_info": {
   "codemirror_mode": {
    "name": "ipython",
    "version": 3
   },
   "file_extension": ".py",
   "mimetype": "text/x-python",
   "name": "python",
   "nbconvert_exporter": "python",
   "pygments_lexer": "ipython3",
   "version": "3.12.1"
  }
 },
 "nbformat": 4,
 "nbformat_minor": 2
}
