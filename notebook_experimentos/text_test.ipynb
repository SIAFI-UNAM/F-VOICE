{
 "cells": [
  {
   "cell_type": "code",
   "execution_count": 1,
   "metadata": {},
   "outputs": [],
   "source": [
    "import sys\n",
    "import os\n",
    "\n",
    "# Agregar la ruta del directorio donde están los módulos\n",
    "module_path = os.path.abspath(os.path.join('..'))\n",
    "if module_path not in sys.path:\n",
    "    sys.path.append(module_path)\n",
    "\n",
    "from text import cleaners  # Importa tu archivo de cleaners\n",
    "from text.symbols import symbols  # Importa los símbolos\n",
    "from text import text_to_sequence, sequence_to_text  # Importa las funciones que convertiste\n",
    "\n",
    "from text.cmudict import Spanish_CMUDict\n",
    "from text import symbols, _symbols_to_sequence\n",
    "# Cargar el diccionario fonético\n",
    "cmu_dict = Spanish_CMUDict(file_or_path=\"spanish_cmudict.dict\")\n"
   ]
  },
  {
   "cell_type": "code",
   "execution_count": null,
   "metadata": {},
   "outputs": [],
   "source": [
    "test_texts = [\n",
    "    \"El Dr. Pérez vive en la Av. Siempre Viva.\",\n",
    "    \"Tengo 1000 pesos y 3.14 en mi bolsillo.\",\n",
    "    \"Este es un texto con caracteres especiales como ñ y á.\",\n",
    "    \"El Sr. García cumplió 25 años el 3 de mayo.\"\n",
    "]"
   ]
  },
  {
   "cell_type": "code",
   "execution_count": 11,
   "metadata": {},
   "outputs": [
    {
     "name": "stdout",
     "output_type": "stream",
     "text": [
      "Transcripción fonética de la oración: o l a - m u n d̪ o - p e r o - k o m p u t̪ a ð o ɾ a\n"
     ]
    }
   ],
   "source": [
    "def transcribir_oracion(oracion):\n",
    "    \"\"\"\n",
    "    Convierte una oración en su versión fonética utilizando el diccionario fonético.\n",
    "    \n",
    "    Args:\n",
    "        oracion (str): La oración en español.\n",
    "        \n",
    "    Returns:\n",
    "        str: La transcripción fonética de la oración.\n",
    "    \"\"\"\n",
    "    palabras = oracion.split()  # Dividimos la oración en palabras\n",
    "    transcripcion_fonetica = []\n",
    "    \n",
    "    for palabra in palabras:\n",
    "        # Buscar la transcripción fonética de la palabra en el diccionario\n",
    "        transcripcion = cmu_dict.lookup(palabra)\n",
    "        if transcripcion:\n",
    "            # Si se encuentra, agregar la transcripción de la palabra\n",
    "            transcripcion_fonetica.append(''.join(transcripcion[0]))\n",
    "        else:\n",
    "            # Si no se encuentra, mantener la palabra tal cual (o manejar el caso)\n",
    "            transcripcion_fonetica.append(palabra)\n",
    "    \n",
    "    # Unir la transcripción fonética de todas las palabras\n",
    "    return ' - '.join(transcripcion_fonetica)\n"
   ]
  },
  {
   "cell_type": "code",
   "execution_count": 16,
   "metadata": {},
   "outputs": [
    {
     "name": "stdout",
     "output_type": "stream",
     "text": [
      "Texto original: El Dr. Pérez vive en la Av. Siempre Viva.\n",
      "Texto limpiado: el doctor pérez vive en la avenida siempre viva.\n",
      "Transcripción fonética de la oración: e l - s e ɲ o ɾ - ɡ a r c i a - k u m p l j o - b e i n t̪ i s i ŋ k o - a ɲ o s - e l - t̪ ɾ e s - d̪ e - mayo.\n",
      "Secuencia: [42, 49, 11, 41, 52, 40, 57, 52, 55, 11, 53, 65, 55, 42, 63, 11, 59, 46, 59, 42, 11, 42, 51, 11, 49, 38, 11, 38, 59, 42, 51, 46, 41, 38, 11, 56, 46, 42, 50, 53, 55, 42, 11, 59, 46, 59, 38, 7]\n",
      "Texto reconstruido: el doctor pérez vive en la avenida siempre viva.\n",
      "Texto original: Tengo 1000 pesos y 3.14 en mi bolsillo.\n",
      "Texto limpiado: tengo mil pesos y tres punto catorce en mi bolsillo.\n",
      "Transcripción fonética de la oración: e l - d̪ o ɣ t̪ o ɾ - p e r e s - b i β e - e n - l a - a β e n i ð a - s j e m p ɾ e - viva.\n",
      "Secuencia: [57, 42, 51, 44, 52, 11, 50, 46, 49, 11, 53, 42, 56, 52, 56, 11, 62, 11, 57, 55, 42, 56, 11, 53, 58, 51, 57, 52, 11, 40, 38, 57, 52, 55, 40, 42, 11, 42, 51, 11, 50, 46, 11, 39, 52, 49, 56, 46, 49, 49, 52, 7]\n",
      "Texto reconstruido: tengo mil pesos y tres punto catorce en mi bolsillo.\n",
      "Texto original: Este es un texto con caracteres especiales como ñ y á.\n",
      "Texto limpiado: este es un texto con caracteres especiales como ñ y á.\n",
      "Transcripción fonética de la oración: t̪ e ŋ ɡ o - m i l - p e s o s - i - t̪ ɾ e s - p u n t̪ o - k a t̪ o r s e - e n - m i - bolsillo.\n",
      "Secuencia: [42, 56, 57, 42, 11, 42, 56, 11, 58, 51, 11, 57, 42, 61, 57, 52, 11, 40, 52, 51, 11, 40, 38, 55, 38, 40, 57, 42, 55, 42, 56, 11, 42, 56, 53, 42, 40, 46, 38, 49, 42, 56, 11, 40, 52, 50, 52, 11, 70, 11, 62, 11, 64, 7]\n",
      "Texto reconstruido: este es un texto con caracteres especiales como ñ y á.\n",
      "Texto original: El Sr. García cumplió 25 años el 3 de mayo.\n",
      "Texto limpiado: el señor garcía cumplió veinticinco años el tres de mayo.\n",
      "Transcripción fonética de la oración: e s t̪ e - e s - u n - t̪ e k s t̪ o - k o n - k a ɾ a ɣ t̪ e ɾ e s - e s p e s j a l e s - k o m o - e ɲ e - i - á.\n",
      "Secuencia: [42, 49, 11, 56, 42, 70, 52, 55, 11, 44, 38, 55, 40, 66, 38, 11, 40, 58, 50, 53, 49, 46, 67, 11, 59, 42, 46, 51, 57, 46, 40, 46, 51, 40, 52, 11, 38, 70, 52, 56, 11, 42, 49, 11, 57, 55, 42, 56, 11, 41, 42, 11, 50, 38, 62, 52, 7]\n",
      "Texto reconstruido: el señor garcía cumplió veinticinco años el tres de mayo.\n"
     ]
    }
   ],
   "source": [
    "for text in test_texts:\n",
    "    print(f\"Texto original: {text}\")\n",
    "    cleaned = cleaners.spanish_cleaners(text)\n",
    "    print(f\"Texto limpiado: {cleaned}\")\n",
    "    seq = text_to_sequence(cleaned, [\"spanish_cleaners\"])\n",
    "    print(f\"Transcripción fonética de la oración: {transcripcion_fonetica}\")\n",
    "    transcripcion_fonetica = transcribir_oracion(cleaned)\n",
    "    print(f\"Secuencia: {seq}\")\n",
    "    recon = sequence_to_text(seq)\n",
    "    print(f\"Texto reconstruido: {recon}\")\n",
    "\n",
    "\n"
   ]
  }
 ],
 "metadata": {
  "kernelspec": {
   "display_name": "Python 3",
   "language": "python",
   "name": "python3"
  },
  "language_info": {
   "codemirror_mode": {
    "name": "ipython",
    "version": 3
   },
   "file_extension": ".py",
   "mimetype": "text/x-python",
   "name": "python",
   "nbconvert_exporter": "python",
   "pygments_lexer": "ipython3",
   "version": "3.12.1"
  }
 },
 "nbformat": 4,
 "nbformat_minor": 2
}
