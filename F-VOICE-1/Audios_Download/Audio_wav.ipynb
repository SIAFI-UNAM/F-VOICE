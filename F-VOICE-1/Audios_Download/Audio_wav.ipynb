{
 "cells": [
  {
   "cell_type": "code",
   "execution_count": 2,
   "metadata": {},
   "outputs": [],
   "source": [
    "import Audio_segmented, IdChannel, voice_to_text\n",
    "import os"
   ]
  },
  {
   "cell_type": "code",
   "execution_count": null,
   "metadata": {},
   "outputs": [],
   "source": [
    "IdChannel.IdChannel(\"UCjgHGAoDMD0ERDJctpem1vA\",3)"
   ]
  },
  {
   "cell_type": "code",
   "execution_count": null,
   "metadata": {},
   "outputs": [],
   "source": [
    "# Function to display user options\n",
    "def user_options():\n",
    "    print(\"Por favor, elige una opción:\")\n",
    "    print(\"1) Segmentar todos los videos de la lista\")\n",
    "    print(\"2) Elegir mediante número cuál de todos los videos segmentar\")\n",
    "    print(\"3) Salir del programa\")\n",
    "    option = input(\"Ingresa el número de tu opción: \")\n",
    "    return option\n",
    "#Call the user_options and segment_audii functions according to the user's choice\n",
    "while True:\n",
    "    option = user_options()\n",
    "    if option == \"1\":\n",
    "        audio_count = 1\n",
    "        for filename in os.listdir(\"Audios Canal\"):\n",
    "            if filename.endswith(\".wav\"):\n",
    "                input_audio_path = os.path.join(\"Audios Canal\", filename)\n",
    "                output_folder = os.path.join(\"segmented_audios\", filename[:-4])  # Create a folder for each audio\n",
    "                while True:\n",
    "                    s = int(input(f\"Para el audio {audio_count}, ¿cuántos segundos debe durar cada segmento (entre 10 y 15)? \"))\n",
    "                    if s >= 10 and s <= 15:\n",
    "                        if Audio_segmented.segment_audii(input_audio_path, output_folder, s):\n",
    "                            break\n",
    "                    else:\n",
    "                        print(\"Por favor, ingresa un valor entre 10 y 15.\")\n",
    "                audio_count += 1\n",
    "    elif option == \"2\":\n",
    "        files = [f for f in os.listdir(\"Audios Canal\") if f.endswith(\".wav\")]\n",
    "        for i, filename in enumerate(files):\n",
    "            print(f\"{i+1}) {filename}\")\n",
    "        file_option = int(input(\"Elige el número del audio que quieres segmentar: \"))\n",
    "        input_audio_path = os.path.join(\"Audios Canal\", files[file_option-1])\n",
    "        output_folder = os.path.join(\"segmented_audios\", files[file_option-1][:-4])  # Create a folder for the chosen audio\n",
    "        while True:\n",
    "            s = int(input(\"¿Cuántos segundos debe durar cada segmento (entre 10 y 15)? \"))\n",
    "            if s >= 10 and s <= 15:\n",
    "                if Audio_segmented.segment_audii(input_audio_path, output_folder, s):\n",
    "                    break\n",
    "            else:\n",
    "                print(\"Por favor, ingresa un valor entre 10 y 15.\")\n",
    "    elif option == \"3\":\n",
    "        print(\"Saliendo del programa.\")\n",
    "        break\n",
    "    else:\n",
    "        print(\"Opción no válida. Por favor, intenta de nuevo.\")"
   ]
  },
  {
   "cell_type": "code",
   "execution_count": null,
   "metadata": {},
   "outputs": [],
   "source": [
    "voice_to_text(\"segmented_audios\",\"Audios_Canal\", model = \"base\",language = \"es\")"
   ]
  }
 ],
 "metadata": {
  "kernelspec": {
   "display_name": "Python 3",
   "language": "python",
   "name": "python3"
  },
  "language_info": {
   "codemirror_mode": {
    "name": "ipython",
    "version": 3
   },
   "file_extension": ".py",
   "mimetype": "text/x-python",
   "name": "python",
   "nbconvert_exporter": "python",
   "pygments_lexer": "ipython3",
   "version": "3.12.0"
  }
 },
 "nbformat": 4,
 "nbformat_minor": 2
}
