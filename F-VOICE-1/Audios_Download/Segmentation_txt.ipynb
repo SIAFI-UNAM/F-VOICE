{
 "cells": [
  {
   "cell_type": "code",
   "execution_count": 1,
   "metadata": {},
   "outputs": [
    {
     "name": "stderr",
     "output_type": "stream",
     "text": [
      "c:\\Users\\Laptop Bonita\\AppData\\Local\\Programs\\Python\\Python312\\Lib\\site-packages\\tqdm\\auto.py:21: TqdmWarning: IProgress not found. Please update jupyter and ipywidgets. See https://ipywidgets.readthedocs.io/en/stable/user_install.html\n",
      "  from .autonotebook import tqdm as notebook_tqdm\n"
     ]
    }
   ],
   "source": [
    "import Audio_segmented, IdChannel, voice_to_text\n",
    "import os\n",
    "import dowload_youtube_videos as DY"
   ]
  },
  {
   "cell_type": "code",
   "execution_count": null,
   "metadata": {},
   "outputs": [],
   "source": [
    "IdChannel.IdChannel(\"UCjgHGAoDMD0ERDJctpem1vA\",15)\n",
    "DY.download_videos_from_file('links.txt','Audios Canal')"
   ]
  },
  {
   "cell_type": "code",
   "execution_count": null,
   "metadata": {},
   "outputs": [],
   "source": [
    "for filename in os.listdir(\"Audios Canal\"):\n",
    "    if filename.endswith(\".wav\"):\n",
    "        input_audio_path = os.path.join(\"Audios Canal\", filename)\n",
    "        output_folder = \"segmented_audios\"\n",
    "        print(f\"Segmenting audio {filename}  \")\n",
    "        Audio_segmented.segment_audio(input_audio_path, output_folder)\n",
    "                "
   ]
  },
  {
   "cell_type": "code",
   "execution_count": 2,
   "metadata": {},
   "outputs": [
    {
     "name": "stderr",
     "output_type": "stream",
     "text": [
      " 33%|███▎      | 2636/7883 [22:08<42:49,  2.04it/s]  "
     ]
    }
   ],
   "source": [
    "voice_to_text.voice_to_text(\"segmented_audios\",\"Text_audio\", model = \"base\",language = \"es\")"
   ]
  }
 ],
 "metadata": {
  "kernelspec": {
   "display_name": "Python 3",
   "language": "python",
   "name": "python3"
  },
  "language_info": {
   "codemirror_mode": {
    "name": "ipython",
    "version": 3
   },
   "file_extension": ".py",
   "mimetype": "text/x-python",
   "name": "python",
   "nbconvert_exporter": "python",
   "pygments_lexer": "ipython3",
   "version": "3.12.2"
  }
 },
 "nbformat": 4,
 "nbformat_minor": 2
}
